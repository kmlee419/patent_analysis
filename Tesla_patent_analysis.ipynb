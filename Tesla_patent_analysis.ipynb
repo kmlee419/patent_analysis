{
 "cells": [
  {
   "cell_type": "code",
   "execution_count": null,
   "metadata": {
    "id": "iN1pZ_CoDmnX"
   },
   "outputs": [],
   "source": [
    "import pandas as pd\n",
    "import numpy as np\n",
    "import matplotlib.pyplot as plt\n",
    "import seaborn as sns\n",
    "import networkx as nx\n",
    "from networkx.algorithms import bipartite\n",
    "from google.colab import files\n",
    "\n",
    "%matplotlib inline"
   ]
  },
  {
   "cell_type": "code",
   "execution_count": null,
   "metadata": {
    "id": "gCd6mnbiDmnb"
   },
   "outputs": [],
   "source": [
    "url = 'https://github.com/kmlee419/patent_analysis/raw/main/tesla_ipc_new.csv'\n",
    "df = pd.read_csv(url)"
   ]
  },
  {
   "cell_type": "code",
   "execution_count": null,
   "metadata": {
    "id": "AE8WUBnlDmnb"
   },
   "outputs": [],
   "source": [
    "url1 = 'https://github.com/kmlee419/cpc_search/raw/main/cpc_total1.csv'\n",
    "url2 = 'https://github.com/kmlee419/cpc_search/raw/main/cpc_total2.csv'\n",
    "\n",
    "df1 = pd.read_csv(url1)\n",
    "df2 = pd.read_csv(url2)\n",
    "\n",
    "df_cpc = pd.concat([df1, df2])"
   ]
  },
  {
   "cell_type": "code",
   "execution_count": null,
   "metadata": {
    "id": "TxJLIZ0CDmnc"
   },
   "outputs": [],
   "source": [
    "df['code_1'] = df['code'].str[:1]\n",
    "df['code_2'] = df['code'].str[:3]"
   ]
  },
  {
   "cell_type": "markdown",
   "metadata": {
    "id": "Tpf_7PI8Dmnc"
   },
   "source": [
    "### 총 특허 수"
   ]
  },
  {
   "cell_type": "code",
   "execution_count": null,
   "metadata": {
    "colab": {
     "base_uri": "https://localhost:8080/"
    },
    "id": "EF5_x859Dmne",
    "outputId": "b6fe161a-0884-40e6-ba51-343168c160ee"
   },
   "outputs": [],
   "source": [
    "len(df['patent'].drop_duplicates())"
   ]
  },
  {
   "cell_type": "markdown",
   "metadata": {
    "id": "TTnOrdhcDmne"
   },
   "source": [
    "### 총 코드 수"
   ]
  },
  {
   "cell_type": "code",
   "execution_count": null,
   "metadata": {
    "colab": {
     "base_uri": "https://localhost:8080/"
    },
    "id": "TIXivj1wDmnf",
    "outputId": "15c33066-71f2-4ef8-cc1c-4e722cb8e353"
   },
   "outputs": [],
   "source": [
    "len(df['code'].drop_duplicates())"
   ]
  },
  {
   "cell_type": "markdown",
   "metadata": {
    "id": "mTLEx-y4Dmng"
   },
   "source": [
    "### 대상년도"
   ]
  },
  {
   "cell_type": "code",
   "execution_count": null,
   "metadata": {
    "colab": {
     "base_uri": "https://localhost:8080/"
    },
    "id": "XdUbS40gDmng",
    "outputId": "384ffbe1-c1b2-453b-f20f-a4a20da0da2a"
   },
   "outputs": [],
   "source": [
    "print(min(df['date']), max(df['date']))"
   ]
  },
  {
   "cell_type": "markdown",
   "metadata": {
    "id": "71z1MiFoDmnh"
   },
   "source": [
    "### 연도별 총 특허 수 "
   ]
  },
  {
   "cell_type": "code",
   "execution_count": null,
   "metadata": {
    "colab": {
     "base_uri": "https://localhost:8080/",
     "height": 17
    },
    "id": "b80LHBfvDmnh",
    "outputId": "6e7b6460-c44c-4c46-adc6-61fca46bd98b"
   },
   "outputs": [],
   "source": [
    "df2 = df[['patent', 'year']].drop_duplicates()\n",
    "group_year = df2.groupby('year')['patent'].count()\n",
    "group_year = group_year.reset_index()\n",
    "#group_year.to_csv('./연도별_총특허수.csv')\n",
    "#files.download('연도별_총특허수.csv')"
   ]
  },
  {
   "cell_type": "code",
   "execution_count": null,
   "metadata": {
    "colab": {
     "base_uri": "https://localhost:8080/",
     "height": 334
    },
    "id": "pLsMEdL8Dmnh",
    "outputId": "b596e66b-416e-4526-e5f1-08347d17d890"
   },
   "outputs": [],
   "source": [
    "plt.figure(figsize=(10, 5))\n",
    "sns.lineplot(data=group_year, x='year', y='patent')\n",
    "#plt.savefig('연도별_총특허수_plot.pdf')\n",
    "#files.download('연도별_총특허수_plot.pdf') \n",
    "plt.show()"
   ]
  },
  {
   "cell_type": "markdown",
   "metadata": {
    "id": "ezcRCTqXDmni"
   },
   "source": [
    "### 가장 많이 사용된 코드 top N list (세세분류)"
   ]
  },
  {
   "cell_type": "code",
   "execution_count": null,
   "metadata": {
    "colab": {
     "base_uri": "https://localhost:8080/",
     "height": 17
    },
    "id": "3cqsJ5dJDmni",
    "outputId": "56865699-9bb6-41ba-d889-a498a20bf988"
   },
   "outputs": [],
   "source": [
    "year1 = 2016 # 기간설정\n",
    "year2 = 2021\n",
    "\n",
    "df_year = df[(df['year']>=year1)&(df['year']<=year2)]\n",
    "code_count = df_year['code'].value_counts().reset_index()\n",
    "df_cpc2 = df_cpc.rename(columns={'코드': 'index'})\n",
    "code_count = pd.merge(code_count, df_cpc2, on='index', how='left')\n",
    "code_count.head(10) # 순위 개수 바꾸기 가능\n",
    "\n",
    "#code_count.to_csv('코드사용빈도_세세분류.csv')\n",
    "#files.download('코드사용빈도_세세분류.csv')"
   ]
  },
  {
   "cell_type": "markdown",
   "metadata": {
    "id": "aZ454dfGDmnj"
   },
   "source": [
    "### 가장 많이 사용된 코드 top N list (중분류)"
   ]
  },
  {
   "cell_type": "code",
   "execution_count": null,
   "metadata": {
    "id": "GlTOdZiaDmnj"
   },
   "outputs": [],
   "source": [
    "year1 = 2016 # 기간설정\n",
    "year2 = 2021\n",
    "\n",
    "df_year = df[(df['year']>=year1)&(df['year']<=year2)]\n",
    "code_count = df_year['code_2'].value_counts().reset_index()\n",
    "df_cpc2 = df_cpc.rename(columns={'코드': 'index'})\n",
    "code_count = pd.merge(code_count, df_cpc2, on='index', how='left')\n",
    "\n",
    "code_count.head(10) # 순위 개수 바꾸기 가능\n",
    "\n",
    "#code_count.to_csv('코드사용빈도_중분류.csv')\n",
    "#files.download('코드사용빈도_중분류.csv')"
   ]
  },
  {
   "cell_type": "markdown",
   "metadata": {
    "id": "atMSehGkDmnj"
   },
   "source": [
    "### 가장 많이 사용된 코드 top N list (대분류 > 중분류 > 세세분류)"
   ]
  },
  {
   "cell_type": "code",
   "execution_count": null,
   "metadata": {
    "colab": {
     "base_uri": "https://localhost:8080/",
     "height": 17
    },
    "id": "eNc-gtuqDmnj",
    "outputId": "3bbe5f4f-b5aa-4d14-94d3-13dd8f85619a"
   },
   "outputs": [],
   "source": [
    "year1 = 2016 # 기간설정\n",
    "year2 = 2016\n",
    "\n",
    "df_year = df[(df['year']>=year1)&(df['year']<=year2)]\n",
    "code_count = df_year['code_1'].value_counts().reset_index()\n",
    "df_cpc2 = df_cpc.rename(columns={'코드': 'index'})\n",
    "code_count = pd.merge(code_count, df_cpc2, on='index', how='left')\n",
    "\n",
    "code_count.head(10) # 순위 개수 바꾸기 가능\n",
    "\n",
    "#code_count.to_csv('코드사용빈도_대분류.csv')\n",
    "#files.download('코드사용빈도_대분류.csv')"
   ]
  },
  {
   "cell_type": "code",
   "execution_count": null,
   "metadata": {
    "id": "GtO_24GWDmnk"
   },
   "outputs": [],
   "source": [
    "#대분류 선택\n",
    "code = 'G'\n",
    "\n",
    "df_code = df[df['code_1']==code]\n",
    "code_count = df_code['code_2'].value_counts().reset_index()\n",
    "df_cpc2 = df_cpc.rename(columns={'코드': 'index'})\n",
    "code_count = pd.merge(code_count, df_cpc2, on='index', how='left')\n",
    "\n",
    "code_count.head(10) # 순위 개수 바꾸기 가능\n",
    "\n",
    "#code_count.to_csv('코드사용빈도_중분류_대분류G.csv')\n",
    "#files.download('코드사용빈도_중분류_대분류G.csv')"
   ]
  },
  {
   "cell_type": "code",
   "execution_count": null,
   "metadata": {
    "id": "GLFDiC8KDmnk"
   },
   "outputs": [],
   "source": [
    "#중분류 선택\n",
    "code = 'G01'\n",
    "\n",
    "df_code = df[df['code_2']==code]\n",
    "code_count = df_code['code'].value_counts().reset_index()\n",
    "df_cpc2 = df_cpc.rename(columns={'코드': 'index'})\n",
    "code_count = pd.merge(code_count, df_cpc2, on='index', how='left')\n",
    "\n",
    "code_count.head(10) # 순위 개수 바꾸기 가능\n",
    "\n",
    "#code_count.to_csv('코드사용빈도_세세분류_중분류G01.csv')\n",
    "#files.download('코드사용빈도_세세분류_중분류G01.csv')"
   ]
  },
  {
   "cell_type": "markdown",
   "metadata": {
    "id": "Ea4rQ4TtDmnk"
   },
   "source": [
    "### 코드별 연도변화 (세세분류)"
   ]
  },
  {
   "cell_type": "code",
   "execution_count": null,
   "metadata": {
    "colab": {
     "base_uri": "https://localhost:8080/",
     "height": 334
    },
    "id": "S0Bs9zTkDmnl",
    "outputId": "9341a131-fa64-407c-bc35-c8805b68b66c"
   },
   "outputs": [],
   "source": [
    "code = 'E04D1/30' # 코드 바꾸기 가능\n",
    "\n",
    "years = df[['year']].drop_duplicates().sort_values(by='year').reset_index(drop=True)\n",
    "\n",
    "df_code = df[df['code']==code]\n",
    "df_code2 = df_code[['patent', 'year']].drop_duplicates()\n",
    "code_year = df_code2.groupby('year')['patent'].count()\n",
    "code_year = code_year.reset_index()\n",
    "\n",
    "code_year2 = pd.merge(years, code_year, on='year', how='left')\n",
    "code_year2.fillna(0.0, inplace=True)\n",
    "\n",
    "plt.figure(figsize=(10, 5))\n",
    "sns.lineplot(data=code_year2, x='year', y='patent')\n",
    "#plt.savefig('코드별_연도변화_세세분류.pdf')\n",
    "#files.download('코드별_연도변화_세세분류.pdf') \n",
    "plt.show()"
   ]
  },
  {
   "cell_type": "markdown",
   "metadata": {
    "id": "GHi_dE2UDmnl"
   },
   "source": [
    "### 코드별 연도변화 (대분류)"
   ]
  },
  {
   "cell_type": "code",
   "execution_count": null,
   "metadata": {
    "colab": {
     "base_uri": "https://localhost:8080/",
     "height": 334
    },
    "id": "JuSnAuM1Dmnl",
    "outputId": "97acccc1-1849-4938-be7a-c31d0b4f1767"
   },
   "outputs": [],
   "source": [
    "code = 'H' # 코드 바꾸기 가능\n",
    "\n",
    "years = df[['year']].drop_duplicates().sort_values(by='year').reset_index(drop=True)\n",
    "\n",
    "df_code = df[df['code_1']==code]\n",
    "df_code2 = df_code[['patent', 'year']].drop_duplicates()\n",
    "code_year = df_code2.groupby('year')['patent'].count()\n",
    "code_year = code_year.reset_index()\n",
    "\n",
    "code_year2 = pd.merge(years, code_year, on='year', how='left')\n",
    "code_year2.fillna(0.0, inplace=True)\n",
    "\n",
    "plt.figure(figsize=(10, 5))\n",
    "sns.lineplot(data=code_year2, x='year', y='patent')\n",
    "sns.lineplot(data=group_year, x='year', y='patent')\n",
    "plt.legend(['code', 'total'])\n",
    "#plt.savefig('코드별_연도변화_대분류.pdf')\n",
    "#files.download('코드별_연도변화_대분류.pdf') \n",
    "\n",
    "plt.show()"
   ]
  },
  {
   "cell_type": "markdown",
   "metadata": {
    "id": "KT-QPtjSDmnl"
   },
   "source": [
    "### 코드별 연도변화 (중분류)"
   ]
  },
  {
   "cell_type": "code",
   "execution_count": null,
   "metadata": {
    "id": "srsmh10iDmnm"
   },
   "outputs": [],
   "source": [
    "code = 'A47' # 코드 바꾸기 가능\n",
    "\n",
    "years = df[['year']].drop_duplicates().sort_values(by='year').reset_index(drop=True)\n",
    "\n",
    "df_code = df[df['code_2']==code]\n",
    "df_code2 = df_code[['patent', 'year']].drop_duplicates()\n",
    "code_year = df_code2.groupby('year')['patent'].count()\n",
    "code_year = code_year.reset_index()\n",
    "\n",
    "code_year2 = pd.merge(years, code_year, on='year', how='left')\n",
    "code_year2.fillna(0.0, inplace=True)\n",
    "\n",
    "plt.figure(figsize=(10, 5))\n",
    "sns.lineplot(data=code_year, x='year', y='patent')\n",
    "sns.lineplot(data=group_year, x='year', y='patent')\n",
    "plt.legend(['code', 'total'])\n",
    "#plt.savefig('코드별_연도변화_중분류.pdf')\n",
    "#files.download('코드별_연도변화_중분류.pdf') \n",
    "\n",
    "plt.show()"
   ]
  },
  {
   "cell_type": "markdown",
   "metadata": {
    "id": "o0xx-pHwDmnm"
   },
   "source": [
    "### 코드별 전년대비 변화량 (세세분류)"
   ]
  },
  {
   "cell_type": "code",
   "execution_count": null,
   "metadata": {
    "id": "duw1X-90Dmnm"
   },
   "outputs": [],
   "source": [
    "years = list(df['year'].drop_duplicates().sort_values())\n",
    "\n",
    "diff = pd.DataFrame(columns = ['index', 'diff', 'by_year'])\n",
    "for i in range(0, len(years)-1):\n",
    "    year1 = years[i]\n",
    "    year2 = years[i+1]\n",
    "    \n",
    "    df_year1 = df[df['year']==year1]\n",
    "    code_count1 = df_year1['code'].value_counts().reset_index()\n",
    "    df_year2 = df[df['year']==year2]\n",
    "    code_count2 = df_year2['code'].value_counts().reset_index()\n",
    "    \n",
    "    merge = pd.merge(code_count1, code_count2, on='index', how='outer')\n",
    "    merge = merge.fillna(0)\n",
    "    merge['diff'] = merge['code_y'] - merge['code_x']\n",
    "    merge['by_year'] = str(year1) + \"-\" + str(year2)\n",
    "    \n",
    "    diff = pd.concat([diff, merge[['index', 'diff', 'by_year']]])"
   ]
  },
  {
   "cell_type": "code",
   "execution_count": null,
   "metadata": {
    "colab": {
     "base_uri": "https://localhost:8080/",
     "height": 359
    },
    "id": "4FA3l-3RDmnm",
    "outputId": "ed50009e-84a3-4823-9ed5-46ef7cd15cb3"
   },
   "outputs": [],
   "source": [
    "df_cpc2 = df_cpc.rename(columns={'코드': 'index'})\n",
    "diff = pd.merge(diff, df_cpc2, on='index', how='left')\n",
    "\n",
    "#diff.to_csv('코드별_전년대비_변화량_세세분류.csv')\n",
    "#files.download('코드별_전년대비_변화량_세세분류.csv')\n",
    "\n",
    "diff.sort_values(by='diff', ascending=False).head(10) # 순위 개수 바꾸기 가능"
   ]
  },
  {
   "cell_type": "code",
   "execution_count": null,
   "metadata": {
    "id": "as4egI7QDmnm"
   },
   "outputs": [],
   "source": [
    "# 역순\n",
    "diff.sort_values(by='diff', ascending=True).head(10) # 순위 개수 바꾸기 가능"
   ]
  },
  {
   "cell_type": "markdown",
   "metadata": {
    "id": "xc1DQizADmnm"
   },
   "source": [
    "### 코드별 전년대비 변화량 (대분류)"
   ]
  },
  {
   "cell_type": "code",
   "execution_count": null,
   "metadata": {
    "id": "kcb2aXK1Dmnn"
   },
   "outputs": [],
   "source": [
    "years = list(df['year'].drop_duplicates().sort_values())\n",
    "\n",
    "diff = pd.DataFrame(columns = ['index', 'diff', 'by_year'])\n",
    "for i in range(0, len(years)-1):\n",
    "    year1 = years[i]\n",
    "    year2 = years[i+1]\n",
    "    \n",
    "    df_year1 = df[df['year']==year1]\n",
    "    code_count1 = df_year1['code_1'].value_counts().reset_index()\n",
    "    df_year2 = df[df['year']==year2]\n",
    "    code_count2 = df_year2['code_1'].value_counts().reset_index()\n",
    "    \n",
    "    merge = pd.merge(code_count1, code_count2, on='index', how='outer')\n",
    "    merge = merge.fillna(0)\n",
    "    merge['diff'] = merge['code_1_y'] - merge['code_1_x']\n",
    "    merge['by_year'] = str(year1) + \"-\" + str(year2)\n",
    "    \n",
    "    diff = pd.concat([diff, merge[['index', 'diff', 'by_year']]])"
   ]
  },
  {
   "cell_type": "code",
   "execution_count": null,
   "metadata": {
    "id": "al5jOofaDmnn"
   },
   "outputs": [],
   "source": [
    "df_cpc2 = df_cpc.rename(columns={'코드': 'index'})\n",
    "diff = pd.merge(diff, df_cpc2, on='index', how='left')\n",
    "\n",
    "#diff.to_csv('코드별_전년대비_변화량_대분류.csv')\n",
    "#files.download('코드별_전년대비_변화량_대분류.csv')\n",
    "\n",
    "diff.sort_values(by='diff', ascending=False).head(10) # 순위 개수 바꾸기 가능"
   ]
  },
  {
   "cell_type": "code",
   "execution_count": null,
   "metadata": {
    "id": "NuhN88l9Dmnn"
   },
   "outputs": [],
   "source": [
    "# 역순\n",
    "diff.sort_values(by='diff', ascending=True).head(10) # 순위 개수 바꾸기 가능"
   ]
  },
  {
   "cell_type": "markdown",
   "metadata": {
    "id": "fQF9OsrmDmnn"
   },
   "source": [
    "### 코드별 전년대비 변화량 (중분류)"
   ]
  },
  {
   "cell_type": "code",
   "execution_count": null,
   "metadata": {
    "id": "ycDhb7g7Dmnn"
   },
   "outputs": [],
   "source": [
    "years = list(df['year'].drop_duplicates().sort_values())\n",
    "\n",
    "diff = pd.DataFrame(columns = ['index', 'diff', 'by_year'])\n",
    "for i in range(0, len(years)-1):\n",
    "    year1 = years[i]\n",
    "    year2 = years[i+1]\n",
    "    \n",
    "    df_year1 = df[df['year']==year1]\n",
    "    code_count1 = df_year1['code_2'].value_counts().reset_index()\n",
    "    df_year2 = df[df['year']==year2]\n",
    "    code_count2 = df_year2['code_2'].value_counts().reset_index()\n",
    "    \n",
    "    merge = pd.merge(code_count1, code_count2, on='index', how='outer')\n",
    "    merge = merge.fillna(0)\n",
    "    merge['diff'] = merge['code_2_y'] - merge['code_2_x']\n",
    "    merge['by_year'] = str(year1) + \"-\" + str(year2)\n",
    "    \n",
    "    diff = pd.concat([diff, merge[['index', 'diff', 'by_year']]])"
   ]
  },
  {
   "cell_type": "code",
   "execution_count": null,
   "metadata": {
    "id": "p4rWd8FqDmno"
   },
   "outputs": [],
   "source": [
    "df_cpc2 = df_cpc.rename(columns={'코드': 'index'})\n",
    "diff = pd.merge(diff, df_cpc2, on='index', how='left')\n",
    "\n",
    "#diff.to_csv('코드별_전년대비_변화량_중분류.csv')\n",
    "#files.download('코드별_전년대비_변화량_중분류.csv')\n",
    "\n",
    "diff.sort_values(by='diff', ascending=False).head(10) # 순위 개수 바꾸기 가능"
   ]
  },
  {
   "cell_type": "code",
   "execution_count": null,
   "metadata": {
    "id": "ZghY_ktJDmno"
   },
   "outputs": [],
   "source": [
    "# 역순\n",
    "diff.sort_values(by='diff', ascending=True).head(10) # 순위 개수 바꾸기 가능"
   ]
  },
  {
   "cell_type": "markdown",
   "metadata": {
    "id": "qG2bcqIADmno"
   },
   "source": [
    "### 코드별 연평균 성장률(CAGR) (세세분류)"
   ]
  },
  {
   "cell_type": "code",
   "execution_count": null,
   "metadata": {
    "id": "_hkyqN_iDmno"
   },
   "outputs": [],
   "source": [
    "df2 = df[['code', 'year', 'patent']].drop_duplicates()\n",
    "df3 = df2.pivot_table(index='code', columns='year', values='patent', aggfunc=['count'])\n",
    "df3.fillna(0.001, inplace=True)"
   ]
  },
  {
   "cell_type": "code",
   "execution_count": null,
   "metadata": {
    "id": "6JsnZXT9Dmno"
   },
   "outputs": [],
   "source": [
    "year1 = 2016\n",
    "year2 = 2021\n",
    "\n",
    "df3['cagr'] = (df3['count'][year2]/df3['count'][year1])**(1/(year2-year1))-1"
   ]
  },
  {
   "cell_type": "code",
   "execution_count": null,
   "metadata": {
    "id": "P3mPgtD1Dmno"
   },
   "outputs": [],
   "source": [
    "df3 = df3.reset_index()\n",
    "df4 = df3[['code', 'cagr']].stack().reset_index(drop=True)\n",
    "df_cpc2 = df_cpc.rename(columns={'코드': 'code'})\n",
    "df5 = pd.merge(df4, df_cpc2, on='code', how='left')"
   ]
  },
  {
   "cell_type": "code",
   "execution_count": null,
   "metadata": {
    "colab": {
     "base_uri": "https://localhost:8080/",
     "height": 359
    },
    "id": "Y3EjM0k8Dmnp",
    "outputId": "1ad49251-4738-4a4a-ebe2-916df0294452"
   },
   "outputs": [],
   "source": [
    "#df5.to_csv('코드별_연평균성장률_세세분류.csv')\n",
    "#files.download('코드별_연평균성장률_세세분류.csv')\n",
    "\n",
    "df5.sort_values(by='cagr', ascending=False).head(10)"
   ]
  },
  {
   "cell_type": "markdown",
   "metadata": {
    "id": "OaX8OjyQDmnp"
   },
   "source": [
    "### 코드별 연평균 성장률(CAGR) (대분류)"
   ]
  },
  {
   "cell_type": "code",
   "execution_count": null,
   "metadata": {
    "id": "pA4TU8dCDmnp"
   },
   "outputs": [],
   "source": [
    "df2 = df[['code_1', 'year', 'patent']].drop_duplicates()\n",
    "df3 = df2.pivot_table(index='code_1', columns='year', values='patent', aggfunc=['count'])\n",
    "df3.fillna(0.001, inplace=True)"
   ]
  },
  {
   "cell_type": "code",
   "execution_count": null,
   "metadata": {
    "id": "RNvt_GkbDmnp"
   },
   "outputs": [],
   "source": [
    "year1 = 2016\n",
    "year2 = 2021\n",
    "\n",
    "df3['cagr'] = (df3['count'][year2]/df3['count'][year1])**(1/(year2-year1))-1"
   ]
  },
  {
   "cell_type": "code",
   "execution_count": null,
   "metadata": {
    "id": "l07RrXy8Dmnr"
   },
   "outputs": [],
   "source": [
    "df3 = df3.reset_index()\n",
    "df4 = df3[['code_1', 'cagr']].stack().reset_index(drop=True)\n",
    "df_cpc2 = df_cpc.rename(columns={'코드': 'code_1'})\n",
    "df5 = pd.merge(df4, df_cpc2, on='code_1', how='left')"
   ]
  },
  {
   "cell_type": "code",
   "execution_count": null,
   "metadata": {
    "id": "bRyQ6MIQDmnr"
   },
   "outputs": [],
   "source": [
    "#df5.to_csv('코드별_연평균성장률_대분류.csv')\n",
    "#files.download('코드별_연평균성장률_대분류.csv')\n",
    "\n",
    "df5.sort_values(by='cagr', ascending=False).head(10)"
   ]
  },
  {
   "cell_type": "markdown",
   "metadata": {
    "id": "atacCLbxDmnr"
   },
   "source": [
    "### 코드별 연평균 성장률(CAGR) (중분류)"
   ]
  },
  {
   "cell_type": "code",
   "execution_count": null,
   "metadata": {
    "id": "L88CNkf-Dmnr"
   },
   "outputs": [],
   "source": [
    "df2 = df[['code_2', 'year', 'patent']].drop_duplicates()\n",
    "df3 = df2.pivot_table(index='code_2', columns='year', values='patent', aggfunc=['count'])\n",
    "df3.fillna(0.001, inplace=True)"
   ]
  },
  {
   "cell_type": "code",
   "execution_count": null,
   "metadata": {
    "id": "CcPsohqrDmnr"
   },
   "outputs": [],
   "source": [
    "year1 = 2016\n",
    "year2 = 2021\n",
    "\n",
    "df3['cagr'] = (df3['count'][year2]/df3['count'][year1])**(1/(year2-year1))-1"
   ]
  },
  {
   "cell_type": "code",
   "execution_count": null,
   "metadata": {
    "id": "2eH3hqeLDmnr"
   },
   "outputs": [],
   "source": [
    "df3 = df3.reset_index()\n",
    "df4 = df3[['code_2', 'cagr']].stack().reset_index(drop=True)\n",
    "df_cpc2 = df_cpc.rename(columns={'코드': 'code_2'})\n",
    "df5 = pd.merge(df4, df_cpc2, on='code_2', how='left')"
   ]
  },
  {
   "cell_type": "code",
   "execution_count": null,
   "metadata": {
    "id": "5LszMPkDDmns"
   },
   "outputs": [],
   "source": [
    "#df5.to_csv('코드별_연평균성장률_중분류.csv')\n",
    "#files.download('코드별_연평균성장률_중분류.csv')\n",
    "\n",
    "df5.sort_values(by='cagr', ascending=False).head(10)"
   ]
  },
  {
   "cell_type": "markdown",
   "metadata": {
    "id": "hSMvSbuiDmns"
   },
   "source": [
    "### 전체 네트워크 분석 (세세분류)"
   ]
  },
  {
   "cell_type": "code",
   "execution_count": null,
   "metadata": {
    "id": "lggtl7K6Dmns"
   },
   "outputs": [],
   "source": [
    "def network_generation(df):\n",
    "    U_nodes = list(df['code'].drop_duplicates())\n",
    "    V_nodes = list(df['patent'].drop_duplicates())\n",
    "    edgelist = list(zip(df['code'], df['patent']))\n",
    "\n",
    "    B_df = nx.Graph()\n",
    "    B_df.add_nodes_from(U_nodes, bipartite=0)\n",
    "    B_df.add_nodes_from(V_nodes, bipartite=1)\n",
    "\n",
    "    B_df.add_edges_from(edgelist)\n",
    "    G = bipartite.collaboration_weighted_projected_graph(B_df, U_nodes)\n",
    "\n",
    "    return G"
   ]
  },
  {
   "cell_type": "code",
   "execution_count": null,
   "metadata": {
    "id": "87cp6-d8Dmns"
   },
   "outputs": [],
   "source": [
    "G = network_generation(df)"
   ]
  },
  {
   "cell_type": "code",
   "execution_count": null,
   "metadata": {
    "id": "sLEdBkMHDmns"
   },
   "outputs": [],
   "source": [
    "degree = nx.degree_centrality(G)\n",
    "betweenness = nx.betweenness_centrality(G)\n",
    "closeness = nx.closeness_centrality(G)\n",
    "eigenvector = nx.eigenvector_centrality(G)\n",
    "\n",
    "nx.set_node_attributes(G, degree, 'degree')\n",
    "nx.set_node_attributes(G, betweenness, 'betweenness')\n",
    "nx.set_node_attributes(G, closeness, 'closeness')\n",
    "nx.set_node_attributes(G, eigenvector, 'eigenvector')"
   ]
  },
  {
   "cell_type": "code",
   "execution_count": null,
   "metadata": {
    "id": "M-hrOc6cDmns"
   },
   "outputs": [],
   "source": [
    "df_g = pd.DataFrame.from_dict(dict(G.nodes(data=True)), orient='index')\n",
    "df_g['dbratio'] = df_g['betweenness'] / df_g['degree']"
   ]
  },
  {
   "cell_type": "code",
   "execution_count": null,
   "metadata": {
    "id": "NBpnRRECDmnt"
   },
   "outputs": [],
   "source": [
    "df_g = df_g.reset_index()\n",
    "df_g.rename(columns={'index':'code'}, inplace=True)"
   ]
  },
  {
   "cell_type": "code",
   "execution_count": null,
   "metadata": {
    "id": "BLqhK2YUDmnt"
   },
   "outputs": [],
   "source": [
    "df_cpc2 = df_cpc.rename(columns={'코드': 'code'})\n",
    "df_g2 = pd.merge(df_g, df_cpc2, on='code', how='left')"
   ]
  },
  {
   "cell_type": "code",
   "execution_count": null,
   "metadata": {
    "colab": {
     "base_uri": "https://localhost:8080/",
     "height": 359
    },
    "id": "19Sd9-4hDmnt",
    "outputId": "f499ee95-ce9e-48f6-a4a7-0670c10badef"
   },
   "outputs": [],
   "source": [
    "# degree 대비 betweenness가 높은 코드 순서로 출력\n",
    "\n",
    "#df_g2.to_csv('네트워크분석_중심성_세세분류.csv')\n",
    "#files.download('네트워크분석_중심성_세세분류.csv')\n",
    "\n",
    "df_g2.sort_values(by='dbratio', ascending=False).head(10)"
   ]
  },
  {
   "cell_type": "markdown",
   "metadata": {
    "id": "zo2hdHwKDmnt"
   },
   "source": [
    "### 가장 빈도가 높은(낮은) 링크 "
   ]
  },
  {
   "cell_type": "code",
   "execution_count": null,
   "metadata": {
    "id": "DgmFgPwBDmnt"
   },
   "outputs": [],
   "source": [
    "year1 = 2016 # 기간설정\n",
    "year2 = 2021\n",
    "\n",
    "df_year = df[(df['year']>=year1)&(df['year']<=year2)]\n",
    "\n",
    "G = network_generation(df_year)\n",
    "df_g = nx.to_pandas_edgelist(G)"
   ]
  },
  {
   "cell_type": "code",
   "execution_count": null,
   "metadata": {
    "id": "AgQV0pofDmnt"
   },
   "outputs": [],
   "source": [
    "df_cpc2 = df_cpc.rename(columns={'코드': 'source'})\n",
    "df_g2 = pd.merge(df_g, df_cpc2, on='source', how='left')\n",
    "df_cpc2 = df_cpc.rename(columns={'코드': 'target'})\n",
    "df_g3 = pd.merge(df_g2, df_cpc2, on='target', how='left')"
   ]
  },
  {
   "cell_type": "code",
   "execution_count": null,
   "metadata": {
    "id": "9UZkKdscDmnu"
   },
   "outputs": [],
   "source": [
    "#df_g3.to_csv('네트워크링크_빈도_세세분류.csv')\n",
    "#files.download('네트워크링크_빈도_세세분류.csv')\n",
    "\n",
    "df_g3.sort_values(by='weight', ascending=False).head(10) # 순위 개수 바꾸기 가능"
   ]
  },
  {
   "cell_type": "code",
   "execution_count": null,
   "metadata": {
    "id": "HyeGgdjnDmnu"
   },
   "outputs": [],
   "source": [
    "df_g3.sort_values(by='weight', ascending=True).head(10) # 순위 개수 바꾸기 가능"
   ]
  },
  {
   "cell_type": "markdown",
   "metadata": {
    "id": "ghPyaprGDmnu"
   },
   "source": [
    "### 가장 빈도가 높은(낮은) 링크 (대분류가 다른 링크만)"
   ]
  },
  {
   "cell_type": "code",
   "execution_count": null,
   "metadata": {
    "id": "cObhG90MDmnu"
   },
   "outputs": [],
   "source": [
    "year1 = 2016 # 기간설정\n",
    "year2 = 2021\n",
    "\n",
    "df_year = df[(df['year']>=year1)&(df['year']<=year2)]\n",
    "\n",
    "G = network_generation(df_year)\n",
    "df_g = nx.to_pandas_edgelist(G)"
   ]
  },
  {
   "cell_type": "code",
   "execution_count": null,
   "metadata": {
    "id": "ebKeDG4UDmnu"
   },
   "outputs": [],
   "source": [
    "df_g['source_1'] = df_g['source'].str[:1]\n",
    "df_g['target_1'] = df_g['target'].str[:1]"
   ]
  },
  {
   "cell_type": "code",
   "execution_count": null,
   "metadata": {
    "id": "QBM7yG5cDmnu"
   },
   "outputs": [],
   "source": [
    "df_g = df_g[df_g['source_1']!=df_g['target_1']]"
   ]
  },
  {
   "cell_type": "code",
   "execution_count": null,
   "metadata": {
    "id": "2l00zpoADmnu"
   },
   "outputs": [],
   "source": [
    "df_cpc2 = df_cpc.rename(columns={'코드': 'source'})\n",
    "df_g2 = pd.merge(df_g, df_cpc2, on='source', how='left')\n",
    "df_cpc2 = df_cpc.rename(columns={'코드': 'target'})\n",
    "df_g3 = pd.merge(df_g2, df_cpc2, on='target', how='left')"
   ]
  },
  {
   "cell_type": "code",
   "execution_count": null,
   "metadata": {
    "id": "31UcSwlyDmnv"
   },
   "outputs": [],
   "source": [
    "#df_g3.to_csv('네트워크링크_빈도_세세분류_다른대분류.csv')\n",
    "#files.download('네트워크링크_빈도_세세분류_다른대분류.csv')\n",
    "\n",
    "df_g3.sort_values(by='weight', ascending=False).head(10) # 순위 개수 바꾸기 가능"
   ]
  },
  {
   "cell_type": "code",
   "execution_count": null,
   "metadata": {
    "id": "D2bgxNG5Dmnv"
   },
   "outputs": [],
   "source": [
    "df_g3.sort_values(by='weight', ascending=True).head(10) # 순위 개수 바꾸기 가능"
   ]
  },
  {
   "cell_type": "markdown",
   "metadata": {
    "id": "Tooq_JgXDmnv"
   },
   "source": [
    "### 링크별 전년대비 변화량"
   ]
  },
  {
   "cell_type": "code",
   "execution_count": null,
   "metadata": {
    "id": "RnrSa85eDmnv"
   },
   "outputs": [],
   "source": [
    "years = list(df['year'].drop_duplicates().sort_values())\n",
    "\n",
    "diff = pd.DataFrame(columns = ['source', 'target', 'diff', 'by_year'])\n",
    "for i in range(0, len(years)-1):\n",
    "    year1 = years[i]\n",
    "    year2 = years[i+1]\n",
    "    \n",
    "    df_year1 = df[df['year']==year1]    \n",
    "    df_year2 = df[df['year']==year2]\n",
    "\n",
    "    G1 = network_generation(df_year1)\n",
    "    G2 = network_generation(df_year2)\n",
    "    \n",
    "    df_g1 = nx.to_pandas_edgelist(G1)\n",
    "    df_g2 = nx.to_pandas_edgelist(G2)\n",
    "    \n",
    "    df_merge = pd.merge(df_g1, df_g2, on=['source', 'target'], how='outer')\n",
    "    df_merge = df_merge.fillna(0)\n",
    "    df_merge['diff'] = df_merge['weight_y'] - df_merge['weight_x']\n",
    "    df_merge['by_year'] = str(year1) + \"-\" + str(year2)\n",
    "    \n",
    "    diff = pd.concat([diff, df_merge[['source', 'target', 'diff', 'by_year']]])"
   ]
  },
  {
   "cell_type": "code",
   "execution_count": null,
   "metadata": {
    "id": "yQD3UafrDmnv"
   },
   "outputs": [],
   "source": [
    "df_cpc2 = df_cpc.rename(columns={'코드': 'source'})\n",
    "diff2 = pd.merge(diff, df_cpc2, on='source', how='left')\n",
    "df_cpc2 = df_cpc.rename(columns={'코드': 'target'})\n",
    "diff3 = pd.merge(diff2, df_cpc2, on='target', how='left')"
   ]
  },
  {
   "cell_type": "code",
   "execution_count": null,
   "metadata": {
    "id": "hTbU4T3ODmnv"
   },
   "outputs": [],
   "source": [
    "#diff3.to_csv('링크별_전년대비변화량_세세분류.csv')\n",
    "#files.download('링크별_전년대비변화량_세세분류.csv')\n",
    "\n",
    "diff3.sort_values(by='diff', ascending=False).head(20)"
   ]
  },
  {
   "cell_type": "markdown",
   "metadata": {
    "id": "BlTiVr4WDmnv"
   },
   "source": [
    "### 링크별 연평균 성장률(CAGR)"
   ]
  },
  {
   "cell_type": "code",
   "execution_count": null,
   "metadata": {
    "id": "RsNGoiXNDmnw"
   },
   "outputs": [],
   "source": [
    "year1 = 2016\n",
    "year2 = 2021\n",
    "\n",
    "df_year1 = df[df['year']==year1]    \n",
    "df_year2 = df[df['year']==year2]\n",
    "\n",
    "G1 = network_generation(df_year1)\n",
    "G2 = network_generation(df_year2)\n",
    "    \n",
    "df_g1 = nx.to_pandas_edgelist(G1)\n",
    "df_g2 = nx.to_pandas_edgelist(G2)\n",
    "\n",
    "df_merge = pd.merge(df_g1, df_g2, on=['source', 'target'], how='outer')\n",
    "df_merge = df_merge.fillna(0.001)\n",
    "df_merge['cagr'] = (df_merge['weight_y']/df_merge['weight_x'])**(1/(year2-year1))-1"
   ]
  },
  {
   "cell_type": "code",
   "execution_count": null,
   "metadata": {
    "id": "RzQP0Q_1Dmnw"
   },
   "outputs": [],
   "source": [
    "df_cpc2 = df_cpc.rename(columns={'코드': 'source'})\n",
    "df_merge2 = pd.merge(df_merge, df_cpc2, on='source', how='left')\n",
    "df_cpc2 = df_cpc.rename(columns={'코드': 'target'})\n",
    "df_merge3 = pd.merge(df_merge2, df_cpc2, on='target', how='left')"
   ]
  },
  {
   "cell_type": "code",
   "execution_count": null,
   "metadata": {
    "id": "3z3gdbrCDmnw"
   },
   "outputs": [],
   "source": [
    "#df_merge3.to_csv('링크별_연평균성장률_세세분류.csv')\n",
    "#files.download('링크별_연평균성장률_세세분류.csv')\n",
    "\n",
    "df_merge3.sort_values(by='cagr', ascending=False).head(10) # 순위 개수 바꾸기 가능"
   ]
  },
  {
   "cell_type": "markdown",
   "metadata": {
    "id": "iBCNwwK-Dmnw"
   },
   "source": [
    "### 전체 네트워크 분석 (대분류)"
   ]
  },
  {
   "cell_type": "code",
   "execution_count": null,
   "metadata": {
    "id": "0FK-d7gBDmnw"
   },
   "outputs": [],
   "source": [
    "def network_generation2(df):\n",
    "    U_nodes = list(df['code_1'].drop_duplicates())\n",
    "    V_nodes = list(df['patent'].drop_duplicates())\n",
    "    edgelist = list(zip(df['code_1'], df['patent']))\n",
    "\n",
    "    B_df = nx.Graph()\n",
    "    B_df.add_nodes_from(U_nodes, bipartite=0)\n",
    "    B_df.add_nodes_from(V_nodes, bipartite=1)\n",
    "\n",
    "    B_df.add_edges_from(edgelist)\n",
    "    G = bipartite.collaboration_weighted_projected_graph(B_df, U_nodes)\n",
    "\n",
    "    return G"
   ]
  },
  {
   "cell_type": "code",
   "execution_count": null,
   "metadata": {
    "id": "ETgJUZuMDmnw"
   },
   "outputs": [],
   "source": [
    "G = network_generation2(df)"
   ]
  },
  {
   "cell_type": "code",
   "execution_count": null,
   "metadata": {
    "id": "YWUGnUPADmnw"
   },
   "outputs": [],
   "source": [
    "degree = nx.degree_centrality(G)\n",
    "betweenness = nx.betweenness_centrality(G)\n",
    "closeness = nx.closeness_centrality(G)\n",
    "eigenvector = nx.eigenvector_centrality(G)\n",
    "\n",
    "nx.set_node_attributes(G, degree, 'degree')\n",
    "nx.set_node_attributes(G, betweenness, 'betweenness')\n",
    "nx.set_node_attributes(G, closeness, 'closeness')\n",
    "nx.set_node_attributes(G, eigenvector, 'eigenvector')"
   ]
  },
  {
   "cell_type": "code",
   "execution_count": null,
   "metadata": {
    "id": "1K6dLt9ADmnw"
   },
   "outputs": [],
   "source": [
    "df_g = pd.DataFrame.from_dict(dict(G.nodes(data=True)), orient='index')\n",
    "df_g['dbratio'] = df_g['betweenness'] / df_g['degree']"
   ]
  },
  {
   "cell_type": "code",
   "execution_count": null,
   "metadata": {
    "id": "QmNen_qaDmnw"
   },
   "outputs": [],
   "source": [
    "df_g = df_g.reset_index()\n",
    "df_g.rename(columns={'index':'code_1'}, inplace=True)"
   ]
  },
  {
   "cell_type": "code",
   "execution_count": null,
   "metadata": {
    "id": "ob_sMC9ZDmnx"
   },
   "outputs": [],
   "source": [
    "df_cpc2 = df_cpc.rename(columns={'코드': 'code_1'})\n",
    "df_g2 = pd.merge(df_g, df_cpc2, on='code_1', how='left')"
   ]
  },
  {
   "cell_type": "code",
   "execution_count": null,
   "metadata": {
    "id": "N-oOEH5tDmnx"
   },
   "outputs": [],
   "source": [
    "# degree 대비 betweenness가 높은 코드 순서로 출력\n",
    "#df_g2.to_csv('네트워크분석_중심성_대분류.csv')\n",
    "#files.download('네트워크분석_중심성_대분류.csv')\n",
    "\n",
    "df_g2.sort_values(by='dbratio', ascending=False).head(10)"
   ]
  },
  {
   "cell_type": "markdown",
   "metadata": {
    "id": "68q_IlJcDmnx"
   },
   "source": [
    "### 가장 빈도가 높은(낮은) 링크 "
   ]
  },
  {
   "cell_type": "code",
   "execution_count": null,
   "metadata": {
    "id": "50RYP2zuDmnx"
   },
   "outputs": [],
   "source": [
    "year1 = 2016 # 기간설정\n",
    "year2 = 2021\n",
    "\n",
    "df_year = df[(df['year']>=year1)&(df['year']<=year2)]\n",
    "\n",
    "G = network_generation2(df_year)\n",
    "df_g = nx.to_pandas_edgelist(G)"
   ]
  },
  {
   "cell_type": "code",
   "execution_count": null,
   "metadata": {
    "id": "EKVcsIVSDmnx"
   },
   "outputs": [],
   "source": [
    "df_cpc2 = df_cpc.rename(columns={'코드': 'source'})\n",
    "df_g2 = pd.merge(df_g, df_cpc2, on='source', how='left')\n",
    "df_cpc2 = df_cpc.rename(columns={'코드': 'target'})\n",
    "df_g3 = pd.merge(df_g2, df_cpc2, on='target', how='left')"
   ]
  },
  {
   "cell_type": "code",
   "execution_count": null,
   "metadata": {
    "id": "lk044ADvDmnx"
   },
   "outputs": [],
   "source": [
    "#df_g3.to_csv('네트워크링크_빈도_대분류.csv')\n",
    "#files.download('네트워크링크_빈도_대분류.csv')\n",
    "\n",
    "df_g3.sort_values(by='weight', ascending=False).head(10) # 순위 개수 바꾸기 가능"
   ]
  },
  {
   "cell_type": "code",
   "execution_count": null,
   "metadata": {
    "id": "mwTn8eU9Dmnx"
   },
   "outputs": [],
   "source": [
    "df_g3.sort_values(by='weight', ascending=True).head(10) # 순위 개수 바꾸기 가능"
   ]
  },
  {
   "cell_type": "markdown",
   "metadata": {
    "id": "PFOFvuwkDmnx"
   },
   "source": [
    "### 링크별 전년대비 변화량"
   ]
  },
  {
   "cell_type": "code",
   "execution_count": null,
   "metadata": {
    "id": "DlaW0_IQDmnx"
   },
   "outputs": [],
   "source": [
    "years = list(df['year'].drop_duplicates().sort_values())\n",
    "\n",
    "diff = pd.DataFrame(columns = ['source', 'target', 'diff', 'by_year'])\n",
    "for i in range(0, len(years)-1):\n",
    "    year1 = years[i]\n",
    "    year2 = years[i+1]\n",
    "    \n",
    "    df_year1 = df[df['year']==year1]    \n",
    "    df_year2 = df[df['year']==year2]\n",
    "\n",
    "    G1 = network_generation2(df_year1)\n",
    "    G2 = network_generation2(df_year2)\n",
    "    \n",
    "    df_g1 = nx.to_pandas_edgelist(G1)\n",
    "    df_g2 = nx.to_pandas_edgelist(G2)\n",
    "    \n",
    "    df_merge = pd.merge(df_g1, df_g2, on=['source', 'target'], how='outer')\n",
    "    df_merge = df_merge.fillna(0)\n",
    "    df_merge['diff'] = df_merge['weight_y'] - df_merge['weight_x']\n",
    "    df_merge['by_year'] = str(year1) + \"-\" + str(year2)\n",
    "    \n",
    "    diff = pd.concat([diff, df_merge[['source', 'target', 'diff', 'by_year']]])"
   ]
  },
  {
   "cell_type": "code",
   "execution_count": null,
   "metadata": {
    "id": "34ueBJ_7Dmny"
   },
   "outputs": [],
   "source": [
    "df_cpc2 = df_cpc.rename(columns={'코드': 'source'})\n",
    "diff2 = pd.merge(diff, df_cpc2, on='source', how='left')\n",
    "df_cpc2 = df_cpc.rename(columns={'코드': 'target'})\n",
    "diff3 = pd.merge(diff2, df_cpc2, on='target', how='left')"
   ]
  },
  {
   "cell_type": "code",
   "execution_count": null,
   "metadata": {
    "id": "WBDNy02WDmny"
   },
   "outputs": [],
   "source": [
    "#diff3.to_csv('링크별_전년대비변화량_대분류.csv')\n",
    "#files.download('링크별_전년대비변화량_대분류.csv')\n",
    "\n",
    "diff3.sort_values(by='diff', ascending=False).head(20)"
   ]
  },
  {
   "cell_type": "markdown",
   "metadata": {
    "id": "dmX1-5MmDmny"
   },
   "source": [
    "### 링크별 연평균 성장률(CAGR)"
   ]
  },
  {
   "cell_type": "code",
   "execution_count": null,
   "metadata": {
    "id": "usqdK5PPDmny"
   },
   "outputs": [],
   "source": [
    "year1 = 2016\n",
    "year2 = 2021\n",
    "\n",
    "df_year1 = df[df['year']==year1]    \n",
    "df_year2 = df[df['year']==year2]\n",
    "\n",
    "G1 = network_generation2(df_year1)\n",
    "G2 = network_generation2(df_year2)\n",
    "    \n",
    "df_g1 = nx.to_pandas_edgelist(G1)\n",
    "df_g2 = nx.to_pandas_edgelist(G2)\n",
    "\n",
    "df_merge = pd.merge(df_g1, df_g2, on=['source', 'target'], how='outer')\n",
    "df_merge = df_merge.fillna(0.001)\n",
    "df_merge['cagr'] = (df_merge['weight_y']/df_merge['weight_x'])**(1/(year2-year1))-1"
   ]
  },
  {
   "cell_type": "code",
   "execution_count": null,
   "metadata": {
    "id": "RFwcDznGDmny"
   },
   "outputs": [],
   "source": [
    "df_cpc2 = df_cpc.rename(columns={'코드': 'source'})\n",
    "df_merge2 = pd.merge(df_merge, df_cpc2, on='source', how='left')\n",
    "df_cpc2 = df_cpc.rename(columns={'코드': 'target'})\n",
    "df_merge3 = pd.merge(df_merge2, df_cpc2, on='target', how='left')"
   ]
  },
  {
   "cell_type": "code",
   "execution_count": null,
   "metadata": {
    "id": "y7bjjBnmDmny"
   },
   "outputs": [],
   "source": [
    "#df_merge3.to_csv('링크별_연평균성장률_대분류.csv')\n",
    "#files.download('링크별_연평균성장률_대분류.csv')\n",
    "\n",
    "df_merge3.sort_values(by='cagr', ascending=False).head(10) # 순위 개수 바꾸기 가능"
   ]
  },
  {
   "cell_type": "markdown",
   "metadata": {
    "id": "B1XgLT8jDmny"
   },
   "source": [
    "### 전체 네트워크 분석 (중분류)"
   ]
  },
  {
   "cell_type": "code",
   "execution_count": null,
   "metadata": {
    "id": "FPih3BkgDmny"
   },
   "outputs": [],
   "source": [
    "def network_generation3(df):\n",
    "    U_nodes = list(df['code_2'].drop_duplicates())\n",
    "    V_nodes = list(df['patent'].drop_duplicates())\n",
    "    edgelist = list(zip(df['code_2'], df['patent']))\n",
    "\n",
    "    B_df = nx.Graph()\n",
    "    B_df.add_nodes_from(U_nodes, bipartite=0)\n",
    "    B_df.add_nodes_from(V_nodes, bipartite=1)\n",
    "\n",
    "    B_df.add_edges_from(edgelist)\n",
    "    G = bipartite.collaboration_weighted_projected_graph(B_df, U_nodes)\n",
    "\n",
    "    return G"
   ]
  },
  {
   "cell_type": "code",
   "execution_count": null,
   "metadata": {
    "id": "HX3bWsbvDmny"
   },
   "outputs": [],
   "source": [
    "G = network_generation3(df)"
   ]
  },
  {
   "cell_type": "code",
   "execution_count": null,
   "metadata": {
    "id": "CLu8ppcADmnz"
   },
   "outputs": [],
   "source": [
    "degree = nx.degree_centrality(G)\n",
    "betweenness = nx.betweenness_centrality(G)\n",
    "closeness = nx.closeness_centrality(G)\n",
    "eigenvector = nx.eigenvector_centrality(G)\n",
    "\n",
    "nx.set_node_attributes(G, degree, 'degree')\n",
    "nx.set_node_attributes(G, betweenness, 'betweenness')\n",
    "nx.set_node_attributes(G, closeness, 'closeness')\n",
    "nx.set_node_attributes(G, eigenvector, 'eigenvector')"
   ]
  },
  {
   "cell_type": "code",
   "execution_count": null,
   "metadata": {
    "id": "ld0D8OE3Dmnz"
   },
   "outputs": [],
   "source": [
    "df_g = pd.DataFrame.from_dict(dict(G.nodes(data=True)), orient='index')\n",
    "df_g['dbratio'] = df_g['betweenness'] / df_g['degree']"
   ]
  },
  {
   "cell_type": "code",
   "execution_count": null,
   "metadata": {
    "id": "xaS5PxW1Dmnz"
   },
   "outputs": [],
   "source": [
    "df_g = df_g.reset_index()\n",
    "df_g.rename(columns={'index':'code_2'}, inplace=True)"
   ]
  },
  {
   "cell_type": "code",
   "execution_count": null,
   "metadata": {
    "id": "7SJt3DYIDmnz"
   },
   "outputs": [],
   "source": [
    "df_cpc2 = df_cpc.rename(columns={'코드': 'code_2'})\n",
    "df_g2 = pd.merge(df_g, df_cpc2, on='code_2', how='left')"
   ]
  },
  {
   "cell_type": "code",
   "execution_count": null,
   "metadata": {
    "id": "1pbifAF6Dmnz"
   },
   "outputs": [],
   "source": [
    "# degree 대비 betweenness가 높은 코드 순서로 출력\n",
    "#df_g2.to_csv('네트워크분석_중심성_중분류.csv')\n",
    "#files.download('네트워크분석_중심성_중분류.csv')\n",
    "\n",
    "df_g2.sort_values(by='dbratio', ascending=False).head(10)"
   ]
  },
  {
   "cell_type": "markdown",
   "metadata": {
    "id": "WWr4-lmHDmnz"
   },
   "source": [
    "### 가장 빈도가 높은(낮은) 링크 "
   ]
  },
  {
   "cell_type": "code",
   "execution_count": null,
   "metadata": {
    "id": "s9vRtrFFDmnz"
   },
   "outputs": [],
   "source": [
    "year1 = 2016 # 기간설정\n",
    "year2 = 2021\n",
    "\n",
    "df_year = df[(df['year']>=year1)&(df['year']<=year2)]\n",
    "\n",
    "G = network_generation3(df_year)\n",
    "df_g = nx.to_pandas_edgelist(G)"
   ]
  },
  {
   "cell_type": "code",
   "execution_count": null,
   "metadata": {
    "id": "29x57KZtDmnz"
   },
   "outputs": [],
   "source": [
    "df_cpc2 = df_cpc.rename(columns={'코드': 'source'})\n",
    "df_g2 = pd.merge(df_g, df_cpc2, on='source', how='left')\n",
    "df_cpc2 = df_cpc.rename(columns={'코드': 'target'})\n",
    "df_g3 = pd.merge(df_g2, df_cpc2, on='target', how='left')"
   ]
  },
  {
   "cell_type": "code",
   "execution_count": null,
   "metadata": {
    "id": "T-_uujJEDmn0"
   },
   "outputs": [],
   "source": [
    "#df_g3.to_csv('네트워크링크_빈도_중분류.csv')\n",
    "#files.download('네트워크링크_빈도_중분류.csv')\n",
    "\n",
    "df_g3.sort_values(by='weight', ascending=False).head(10) # 순위 개수 바꾸기 가능"
   ]
  },
  {
   "cell_type": "code",
   "execution_count": null,
   "metadata": {
    "id": "HM2ik8gZDmn0"
   },
   "outputs": [],
   "source": [
    "df_g3.sort_values(by='weight', ascending=True).head(10) # 순위 개수 바꾸기 가능"
   ]
  },
  {
   "cell_type": "markdown",
   "metadata": {
    "id": "mXmdODRtDmn0"
   },
   "source": [
    "### 가장 빈도가 높은(낮은) 링크 (대분류가 다른 링크만)"
   ]
  },
  {
   "cell_type": "code",
   "execution_count": null,
   "metadata": {
    "id": "Ye2IDj0FDmn0"
   },
   "outputs": [],
   "source": [
    "year1 = 2016 # 기간설정\n",
    "year2 = 2021\n",
    "\n",
    "df_year = df[(df['year']>=year1)&(df['year']<=year2)]\n",
    "\n",
    "G = network_generation3(df_year)\n",
    "df_g = nx.to_pandas_edgelist(G)"
   ]
  },
  {
   "cell_type": "code",
   "execution_count": null,
   "metadata": {
    "id": "jGhF_YblDmn0"
   },
   "outputs": [],
   "source": [
    "df_g['source_1'] = df_g['source'].str[:1]\n",
    "df_g['target_1'] = df_g['target'].str[:1]"
   ]
  },
  {
   "cell_type": "code",
   "execution_count": null,
   "metadata": {
    "id": "HF600xZaDmn0"
   },
   "outputs": [],
   "source": [
    "df_g = df_g[df_g['source_1']!=df_g['target_1']]"
   ]
  },
  {
   "cell_type": "code",
   "execution_count": null,
   "metadata": {
    "id": "NYMevg-sDmn0"
   },
   "outputs": [],
   "source": [
    "df_cpc2 = df_cpc.rename(columns={'코드': 'source'})\n",
    "df_g2 = pd.merge(df_g, df_cpc2, on='source', how='left')\n",
    "df_cpc2 = df_cpc.rename(columns={'코드': 'target'})\n",
    "df_g3 = pd.merge(df_g2, df_cpc2, on='target', how='left')"
   ]
  },
  {
   "cell_type": "code",
   "execution_count": null,
   "metadata": {
    "id": "ZZdxXHNGDmn0"
   },
   "outputs": [],
   "source": [
    "#df_g3.to_csv('네트워크링크_빈도_중분류_다른대분류.csv')\n",
    "#files.download('네트워크링크_빈도_중분류_다른대분류.csv')\n",
    "\n",
    "df_g3.sort_values(by='weight', ascending=False).head(10) # 순위 개수 바꾸기 가능"
   ]
  },
  {
   "cell_type": "code",
   "execution_count": null,
   "metadata": {
    "id": "1R30TMLBDmn0"
   },
   "outputs": [],
   "source": [
    "df_g3.sort_values(by='weight', ascending=True).head(10) # 순위 개수 바꾸기 가능"
   ]
  },
  {
   "cell_type": "markdown",
   "metadata": {
    "id": "CTKuGhslDmn1"
   },
   "source": [
    "### 링크별 전년대비 변화량"
   ]
  },
  {
   "cell_type": "code",
   "execution_count": null,
   "metadata": {
    "id": "DmIuYx9QDmn1"
   },
   "outputs": [],
   "source": [
    "years = list(df['year'].drop_duplicates().sort_values())\n",
    "\n",
    "diff = pd.DataFrame(columns = ['source', 'target', 'diff', 'by_year'])\n",
    "for i in range(0, len(years)-1):\n",
    "    year1 = years[i]\n",
    "    year2 = years[i+1]\n",
    "    \n",
    "    df_year1 = df[df['year']==year1]    \n",
    "    df_year2 = df[df['year']==year2]\n",
    "\n",
    "    G1 = network_generation3(df_year1)\n",
    "    G2 = network_generation3(df_year2)\n",
    "    \n",
    "    df_g1 = nx.to_pandas_edgelist(G1)\n",
    "    df_g2 = nx.to_pandas_edgelist(G2)\n",
    "    \n",
    "    df_merge = pd.merge(df_g1, df_g2, on=['source', 'target'], how='outer')\n",
    "    df_merge = df_merge.fillna(0)\n",
    "    df_merge['diff'] = df_merge['weight_y'] - df_merge['weight_x']\n",
    "    df_merge['by_year'] = str(year1) + \"-\" + str(year2)\n",
    "    \n",
    "    diff = pd.concat([diff, df_merge[['source', 'target', 'diff', 'by_year']]])"
   ]
  },
  {
   "cell_type": "code",
   "execution_count": null,
   "metadata": {
    "id": "ABagyny8Dmn1"
   },
   "outputs": [],
   "source": [
    "df_cpc2 = df_cpc.rename(columns={'코드': 'source'})\n",
    "diff2 = pd.merge(diff, df_cpc2, on='source', how='left')\n",
    "df_cpc2 = df_cpc.rename(columns={'코드': 'target'})\n",
    "diff3 = pd.merge(diff2, df_cpc2, on='target', how='left')"
   ]
  },
  {
   "cell_type": "code",
   "execution_count": null,
   "metadata": {
    "id": "RNb3vYN8Dmn1"
   },
   "outputs": [],
   "source": [
    "#diff3.to_csv('링크별_전년대비변화량_중분류.csv')\n",
    "#files.download('링크별_전년대비변화량_중분류.csv')\n",
    "\n",
    "diff3.sort_values(by='diff', ascending=False).head(20)"
   ]
  },
  {
   "cell_type": "markdown",
   "metadata": {
    "id": "2QjYXOtODmn1"
   },
   "source": [
    "### 링크별 연평균 성장률(CAGR)"
   ]
  },
  {
   "cell_type": "code",
   "execution_count": null,
   "metadata": {
    "id": "s2ycOcyKDmn1"
   },
   "outputs": [],
   "source": [
    "year1 = 2016\n",
    "year2 = 2021\n",
    "\n",
    "df_year1 = df[df['year']==year1]    \n",
    "df_year2 = df[df['year']==year2]\n",
    "\n",
    "G1 = network_generation3(df_year1)\n",
    "G2 = network_generation3(df_year2)\n",
    "    \n",
    "df_g1 = nx.to_pandas_edgelist(G1)\n",
    "df_g2 = nx.to_pandas_edgelist(G2)\n",
    "\n",
    "df_merge = pd.merge(df_g1, df_g2, on=['source', 'target'], how='outer')\n",
    "df_merge = df_merge.fillna(0.001)\n",
    "df_merge['cagr'] = (df_merge['weight_y']/df_merge['weight_x'])**(1/(year2-year1))-1"
   ]
  },
  {
   "cell_type": "code",
   "execution_count": null,
   "metadata": {
    "id": "EWVvBWLjDmn1"
   },
   "outputs": [],
   "source": [
    "df_cpc2 = df_cpc.rename(columns={'코드': 'source'})\n",
    "df_merge2 = pd.merge(df_merge, df_cpc2, on='source', how='left')\n",
    "df_cpc2 = df_cpc.rename(columns={'코드': 'target'})\n",
    "df_merge3 = pd.merge(df_merge2, df_cpc2, on='target', how='left')"
   ]
  },
  {
   "cell_type": "code",
   "execution_count": null,
   "metadata": {
    "id": "_sZJEs8LDmn1"
   },
   "outputs": [],
   "source": [
    "#df_merge3.to_csv('링크별_연평균성장률_중분류.csv')\n",
    "#files.download('링크별_연평균성장률_중분류.csv')\n",
    "\n",
    "df_merge3.sort_values(by='cagr', ascending=False).head(10) # 순위 개수 바꾸기 가능"
   ]
  },
  {
   "cell_type": "markdown",
   "metadata": {
    "id": "_1bTQ0uADmn2"
   },
   "source": [
    "### 해당 코드를 포함한 특허 추출"
   ]
  },
  {
   "cell_type": "code",
   "execution_count": null,
   "metadata": {
    "id": "D1zAI2VzDmn2"
   },
   "outputs": [],
   "source": [
    "code = 'G01C21/3697' # 코드 바꾸기 가능\n",
    "\n",
    "df_code = df[df['code']==code].reset_index(drop=True)\n",
    "df_code2 = df_code[['patent', 'date']].drop_duplicates().reset_index(drop=True)\n",
    "df_code2['url'] = 'https://patents.google.com/patent/' + df_code['patent'].str.replace('-', '')"
   ]
  },
  {
   "cell_type": "code",
   "execution_count": null,
   "metadata": {
    "id": "wooZoXlpDmn2"
   },
   "outputs": [],
   "source": [
    "#df_code2.to_csv('특허추출_해당코드.csv')\n",
    "#files.download('특허추출_해당코드.csv')\n",
    "\n",
    "df_code2"
   ]
  },
  {
   "cell_type": "markdown",
   "metadata": {
    "id": "9-tsSGREDmn2"
   },
   "source": [
    "### 복수의 코드를 포함한 특허 추출"
   ]
  },
  {
   "cell_type": "code",
   "execution_count": null,
   "metadata": {
    "id": "ASdNlMcHDmn2"
   },
   "outputs": [],
   "source": [
    "code1 = 'H01M10/613' # 코드 바꾸기 가능\n",
    "code2 = 'Y02E60/10' # 코드 바꾸기 가능\n",
    "\n",
    "df_code1 = df[df['code']==code1].reset_index(drop=True)\n",
    "df_code2 = df[df['code']==code2].reset_index(drop=True)\n",
    "df_code3 = pd.merge(df_code1, df_code2, on='patent', how='outer')\n",
    "df_code4 = df_code3[(~df_code3['code_x'].isnull())&(~df_code3['code_y'].isnull())]\n",
    "df_code5 = df_code4[['patent', 'date_x']].reset_index(drop=True)\n",
    "df_code5['url'] = 'https://patents.google.com/patent/' + df_code5['patent'].str.replace('-', '')"
   ]
  },
  {
   "cell_type": "code",
   "execution_count": null,
   "metadata": {
    "id": "MKYwJOR1Dmn2"
   },
   "outputs": [],
   "source": [
    "#df_code5.to_csv('특허추출_해당코드복수.csv')\n",
    "#files.download('특허추출_해당코드복수.csv')\n",
    "\n",
    "df_code5"
   ]
  },
  {
   "cell_type": "code",
   "execution_count": null,
   "metadata": {
    "id": "SqIGbuORDmn2"
   },
   "outputs": [],
   "source": []
  }
 ],
 "metadata": {
  "colab": {
   "name": "Tesla_patent_analysis.ipynb의 사본",
   "provenance": []
  },
  "kernelspec": {
   "display_name": "Python 3",
   "language": "python",
   "name": "python3"
  },
  "language_info": {
   "codemirror_mode": {
    "name": "ipython",
    "version": 3
   },
   "file_extension": ".py",
   "mimetype": "text/x-python",
   "name": "python",
   "nbconvert_exporter": "python",
   "pygments_lexer": "ipython3",
   "version": "3.7.9"
  }
 },
 "nbformat": 4,
 "nbformat_minor": 1
}
