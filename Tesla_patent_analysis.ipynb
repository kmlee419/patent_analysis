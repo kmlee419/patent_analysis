{
 "cells": [
  {
   "cell_type": "code",
   "execution_count": null,
   "metadata": {},
   "outputs": [],
   "source": [
    "import pandas as pd\n",
    "import numpy as np\n",
    "import matplotlib.pyplot as plt\n",
    "import seaborn as sns\n",
    "import networkx as nx\n",
    "from networkx.algorithms import bipartite\n",
    "\n",
    "%matplotlib inline"
   ]
  },
  {
   "cell_type": "code",
   "execution_count": null,
   "metadata": {},
   "outputs": [],
   "source": [
    "url = 'https://github.com/kmlee419/patent_analysis/raw/main/tesla_ipc_200.csv'\n",
    "df = pd.read_csv(url)"
   ]
  },
  {
   "cell_type": "markdown",
   "metadata": {},
   "source": [
    "### 총 특허 수"
   ]
  },
  {
   "cell_type": "code",
   "execution_count": null,
   "metadata": {},
   "outputs": [],
   "source": [
    "len(df['patent'].drop_duplicates())"
   ]
  },
  {
   "cell_type": "markdown",
   "metadata": {},
   "source": [
    "### 총 코드 수"
   ]
  },
  {
   "cell_type": "code",
   "execution_count": null,
   "metadata": {},
   "outputs": [],
   "source": [
    "len(df['code'].drop_duplicates())"
   ]
  },
  {
   "cell_type": "markdown",
   "metadata": {},
   "source": [
    "### 대상년도"
   ]
  },
  {
   "cell_type": "code",
   "execution_count": null,
   "metadata": {},
   "outputs": [],
   "source": [
    "print(min(df['date']), max(df['date']))"
   ]
  },
  {
   "cell_type": "markdown",
   "metadata": {},
   "source": [
    "### 연도별 총 특허 수 "
   ]
  },
  {
   "cell_type": "code",
   "execution_count": null,
   "metadata": {},
   "outputs": [],
   "source": [
    "df2 = df[['patent', 'year']].drop_duplicates()\n",
    "group_year = df2.groupby('year')['patent'].count()\n",
    "group_year = group_year.reset_index()"
   ]
  },
  {
   "cell_type": "code",
   "execution_count": null,
   "metadata": {},
   "outputs": [],
   "source": [
    "plt.figure(figsize=(10, 5))\n",
    "sns.lineplot(data=group_year, x='year', y='patent')\n",
    "plt.show()"
   ]
  },
  {
   "cell_type": "markdown",
   "metadata": {},
   "source": [
    "### 가장 많이 사용된 코드 top N list"
   ]
  },
  {
   "cell_type": "code",
   "execution_count": null,
   "metadata": {},
   "outputs": [],
   "source": [
    "code_count = df['code'].value_counts().reset_index()"
   ]
  },
  {
   "cell_type": "code",
   "execution_count": null,
   "metadata": {},
   "outputs": [],
   "source": [
    "code_count.head(10) # 숫자를 바꾸면 top N 조절 가능"
   ]
  },
  {
   "cell_type": "markdown",
   "metadata": {},
   "source": [
    "### 가장 많이 사용된 코드 top N list (연도별)"
   ]
  },
  {
   "cell_type": "code",
   "execution_count": null,
   "metadata": {},
   "outputs": [],
   "source": [
    "year = 2012 # 연도 바꾸기 가능\n",
    "\n",
    "df_year = df[df['year']==year]\n",
    "code_count = df_year['code'].value_counts().reset_index()\n",
    "code_count.head(20) # 순위 개수 바꾸기 가능"
   ]
  },
  {
   "cell_type": "markdown",
   "metadata": {},
   "source": [
    "### 코드별 연도변화"
   ]
  },
  {
   "cell_type": "code",
   "execution_count": null,
   "metadata": {},
   "outputs": [],
   "source": [
    "code = 'H01M10/613' # 코드 바꾸기 가능\n",
    "\n",
    "df_code = df[df['code']==code]\n",
    "df_code2 = df_code[['patent', 'year']].drop_duplicates()\n",
    "code_year = df_code2.groupby('year')['patent'].count()\n",
    "code_year = code_year.reset_index()\n",
    "\n",
    "plt.figure(figsize=(10, 5))\n",
    "sns.lineplot(data=code_year, x='year', y='patent')\n",
    "plt.show()"
   ]
  },
  {
   "cell_type": "markdown",
   "metadata": {},
   "source": [
    "### 코드별 전년대비 변화량 "
   ]
  },
  {
   "cell_type": "code",
   "execution_count": null,
   "metadata": {},
   "outputs": [],
   "source": [
    "years = list(df['year'].drop_duplicates().sort_values())\n",
    "\n",
    "diff = pd.DataFrame(columns = ['index', 'diff', 'by_year'])\n",
    "for i in range(0, len(years)-1):\n",
    "    year1 = years[i]\n",
    "    year2 = years[i+1]\n",
    "    \n",
    "    df_year1 = df[df['year']==year1]\n",
    "    code_count1 = df_year1['code'].value_counts().reset_index()\n",
    "    df_year2 = df[df['year']==year2]\n",
    "    code_count2 = df_year2['code'].value_counts().reset_index()\n",
    "    \n",
    "    merge = pd.merge(code_count1, code_count2, on='index', how='outer')\n",
    "    merge = merge.fillna(0)\n",
    "    merge['diff'] = merge['code_y'] - merge['code_x']\n",
    "    merge['by_year'] = str(year1) + \"-\" + str(year2)\n",
    "    \n",
    "    diff = pd.concat([diff, merge[['index', 'diff', 'by_year']]])"
   ]
  },
  {
   "cell_type": "code",
   "execution_count": null,
   "metadata": {},
   "outputs": [],
   "source": [
    "diff.sort_values(by='diff', ascending=False).head(10) "
   ]
  },
  {
   "cell_type": "code",
   "execution_count": null,
   "metadata": {},
   "outputs": [],
   "source": [
    "diff.sort_values(by='diff', ascending=True).head(10)"
   ]
  },
  {
   "cell_type": "markdown",
   "metadata": {},
   "source": [
    "### 전체 네트워크 분석"
   ]
  },
  {
   "cell_type": "code",
   "execution_count": null,
   "metadata": {},
   "outputs": [],
   "source": [
    "def network_generation(df):\n",
    "    U_nodes = list(df['code'].drop_duplicates())\n",
    "    V_nodes = list(df['patent'].drop_duplicates())\n",
    "    edgelist = list(zip(df['code'], df['patent']))\n",
    "\n",
    "    B_df = nx.Graph()\n",
    "    B_df.add_nodes_from(U_nodes, bipartite=0)\n",
    "    B_df.add_nodes_from(V_nodes, bipartite=1)\n",
    "\n",
    "    B_df.add_edges_from(edgelist)\n",
    "    G = bipartite.collaboration_weighted_projected_graph(B_df, U_nodes)\n",
    "\n",
    "    return G"
   ]
  },
  {
   "cell_type": "code",
   "execution_count": null,
   "metadata": {},
   "outputs": [],
   "source": [
    "G = network_generation(df)"
   ]
  },
  {
   "cell_type": "code",
   "execution_count": null,
   "metadata": {},
   "outputs": [],
   "source": [
    "degree = nx.degree_centrality(G)\n",
    "betweenness = nx.betweenness_centrality(G)\n",
    "closeness = nx.closeness_centrality(G)\n",
    "eigenvector = nx.eigenvector_centrality(G)\n",
    "\n",
    "nx.set_node_attributes(G, degree, 'degree')\n",
    "nx.set_node_attributes(G, betweenness, 'betweenness')\n",
    "nx.set_node_attributes(G, closeness, 'closeness')\n",
    "nx.set_node_attributes(G, eigenvector, 'eigenvector')"
   ]
  },
  {
   "cell_type": "code",
   "execution_count": null,
   "metadata": {},
   "outputs": [],
   "source": [
    "df_g = pd.DataFrame.from_dict(dict(G.nodes(data=True)), orient='index')\n",
    "df_g['dbratio'] = df_g['betweenness'] / df_g['degree']"
   ]
  },
  {
   "cell_type": "code",
   "execution_count": null,
   "metadata": {},
   "outputs": [],
   "source": [
    "# degree 대비 betweenness가 높은 코드 순서로 출력\n",
    "df_g.sort_values(by='dbratio', ascending=False).head(10)"
   ]
  },
  {
   "cell_type": "markdown",
   "metadata": {},
   "source": [
    "### 링크별 전년대비 변화량"
   ]
  },
  {
   "cell_type": "code",
   "execution_count": null,
   "metadata": {},
   "outputs": [],
   "source": [
    "years = list(df['year'].drop_duplicates().sort_values())\n",
    "\n",
    "diff = pd.DataFrame(columns = ['source', 'target', 'diff', 'by_year'])\n",
    "for i in range(0, len(years)-1):\n",
    "    year1 = years[i]\n",
    "    year2 = years[i+1]\n",
    "    \n",
    "    df_year1 = df[df['year']==year1]    \n",
    "    df_year2 = df[df['year']==year2]\n",
    "\n",
    "    G1 = network_generation(df_year1)\n",
    "    G2 = network_generation(df_year2)\n",
    "    \n",
    "    df_g1 = nx.to_pandas_edgelist(G1)\n",
    "    df_g2 = nx.to_pandas_edgelist(G2)\n",
    "    \n",
    "    df_merge = pd.merge(df_g1, df_g2, on=['source', 'target'], how='outer')\n",
    "    df_merge = df_merge.fillna(0)\n",
    "    df_merge['diff'] = df_merge['weight_y'] - df_merge['weight_x']\n",
    "    df_merge['by_year'] = str(year1) + \"-\" + str(year2)\n",
    "    \n",
    "    diff = pd.concat([diff, df_merge[['source', 'target', 'diff', 'by_year']]])"
   ]
  },
  {
   "cell_type": "code",
   "execution_count": null,
   "metadata": {},
   "outputs": [],
   "source": [
    "diff.sort_values(by='diff', ascending=False).head(20)"
   ]
  },
  {
   "cell_type": "code",
   "execution_count": null,
   "metadata": {},
   "outputs": [],
   "source": []
  },
  {
   "cell_type": "code",
   "execution_count": null,
   "metadata": {},
   "outputs": [],
   "source": []
  },
  {
   "cell_type": "code",
   "execution_count": null,
   "metadata": {},
   "outputs": [],
   "source": []
  },
  {
   "cell_type": "code",
   "execution_count": null,
   "metadata": {},
   "outputs": [],
   "source": []
  },
  {
   "cell_type": "code",
   "execution_count": null,
   "metadata": {},
   "outputs": [],
   "source": []
  },
  {
   "cell_type": "code",
   "execution_count": null,
   "metadata": {},
   "outputs": [],
   "source": []
  }
 ],
 "metadata": {
  "kernelspec": {
   "display_name": "Python 3",
   "language": "python",
   "name": "python3"
  },
  "language_info": {
   "codemirror_mode": {
    "name": "ipython",
    "version": 3
   },
   "file_extension": ".py",
   "mimetype": "text/x-python",
   "name": "python",
   "nbconvert_exporter": "python",
   "pygments_lexer": "ipython3",
   "version": "3.7.9"
  }
 },
 "nbformat": 4,
 "nbformat_minor": 2
}
